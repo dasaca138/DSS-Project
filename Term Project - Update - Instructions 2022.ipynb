{
 "cells": [
  {
   "cell_type": "markdown",
   "metadata": {},
   "source": [
    "# Term Project - Update\n",
    "\n",
    "ESI4628: Decision Support Systems for Industrial Engineers<br>\n",
    "University of Central Florida\n",
    "\n",
    "Fall 2023"
   ]
  },
  {
   "cell_type": "markdown",
   "metadata": {},
   "source": [
    "#### According to UCF Golden rules of academic ethics and honesty, plagiarism is not acceptable under any circumstances. "
   ]
  },
  {
   "cell_type": "markdown",
   "metadata": {},
   "source": [
    "### Project Title: Predicting the Regular Season Records of NBA Teams using Machine Learning \n",
    "### Team Number 7 \n",
    "### Team Members: Dinorah Galvez Monasterio, Wesli Wehmeier, Paolo Raymundo, Dalia Sanchez-Castellanos"
 
   ]
  },
  {
   "cell_type": "markdown",
   "metadata": {},
   "source": [
    "### 1 Problem Statement :\n",
    "The goal for our machine learning model is to help us predict the regular season winning percentages for NBA
teams. This model could be useful for incoming players deciding where they would like to play, or fans deciding what
teams to support. There is a need for this due to the lasting prominence of the sport at a global scale, and the growth
it has seen in fantasy sports and betting environments"
   ]
  },
  {
   "cell_type": "markdown",
   "metadata": {},
   "source": [
    "### 2 Dataset : 20 Points (Word count ~150)\n",
    "**Note:** Answer the following questions. Handmade datasets will be rejected with no excuse entertained.\n",
    "+ Describe the dataset you chose for this project.\n",
    "+ What is your data resource?\n",
    "+ Define the variables in your dataset\n",
    "+ Reference for your dataset."
   ]
  },
  {
   "cell_type": "markdown",
   "metadata": {},
   "source": [
    "### 3 Modeling Type and Technique: 25 Points (Word count ~150)\n",
    "**Note:** Answer the following questions.\n",
    "+ Explain precisely the modeling techniques that you chose for this project.\n",
    "+ What is your modeling methodology? \n",
    "+ Explain all the steps involved in the design and code.\n",
    "+ What visualization method is used to portray your results?\n",
    "+ Why do you think chosen visualization method is apt for your case?\n",
    "+ How do you measure the performance of your model?"
   ]
  },
  {
   "cell_type": "markdown",
   "metadata": {},
   "source": [
    "### 4 Progress: 25 Points (Word count ~150)\n",
    "**Note:** Answer the following questions.\n",
    "+ How far did you make progress in your project?\n",
    "+ Define the tasks accomplished by every team members in a table clearly. \n",
    "+ How can you justify your solution to the mentioned problem statement?\n",
    "+ Why do you think your model is better than the other similar models that are in the market today?"
   ]
  },
  {
   "cell_type": "markdown",
   "metadata": {},
   "source": [
    "### 5 References (5 Points): \n",
    "**Note:** State your references from conference proceedings and/or Journals. \n",
    "+ Minimum of 3 references.\n",
    "+ Shall be in APA/MLA format.\n",
    "+ Website links can only be used as an additional reference."
   ]
  },
  {
   "cell_type": "markdown",
   "metadata": {},
   "source": [
    "_(C) 2022 Complex Adaptive Systems Laboratory all rights reserved._"
   ]
  }
 ],
 "metadata": {
  "kernelspec": {
   "display_name": "Python 3 (ipykernel)",
   "language": "python",
   "name": "python3"
  },
  "language_info": {
   "codemirror_mode": {
    "name": "ipython",
    "version": 3
   },
   "file_extension": ".py",
   "mimetype": "text/x-python",
   "name": "python",
   "nbconvert_exporter": "python",
   "pygments_lexer": "ipython3",
   "version": "3.9.12"
  }
 },
 "nbformat": 4,
 "nbformat_minor": 2
}
