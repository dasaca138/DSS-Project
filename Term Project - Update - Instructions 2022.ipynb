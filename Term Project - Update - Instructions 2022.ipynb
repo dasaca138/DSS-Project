{
 "cells": [
  {
   "cell_type": "markdown",
   "metadata": {},
   "source": [
    "# Term Project - Update\n",
    "\n",
    "ESI4628: Decision Support Systems for Industrial Engineers<br>\n",
    "University of Central Florida\n",
    "\n",
    "Fall 2022"
   ]
  },
  {
   "cell_type": "markdown",
   "metadata": {},
   "source": [
    "#### According to UCF Golden rules of academic ethics and honesty, plagiarism is not acceptable under any circumstances. "
   ]
  },
  {
   "cell_type": "markdown",
   "metadata": {},
   "source": [
    "### Project Title (1 Points): \n",
    "### Team Number (2 Points): \n",
    "### Team Members (2 Points):\n",
    "####  **Note** : \n",
    "+ Pay attention to instructions, no second chance provided under any grounds.\n",
    "+ Group coordination is very important, unclear/incomplete answers will impact the final grade of everyone on the team.\n",
    "+ Late submissions or wrong templates will not be entertained, may that be wrong file upload or incomplete/unexecuted markdown cells or whatever.\n",
    "+ Solutions files are expected to be the same format as this file.\n",
    "+ Only one project update per group shall be submitted."
   ]
  },
  {
   "cell_type": "markdown",
   "metadata": {},
   "source": [
    "### 1 Problem Statement : 20 Points (Word count ~100)\n",
    "**Note:** Answer the following questions.\n",
    "+ What is the problem that you are focusing on?\n",
    "+ Why is it an important problem to solve, now?"
   ]
  },
  {
   "cell_type": "markdown",
   "metadata": {},
   "source": [
    "### 2 Dataset : 20 Points (Word count ~150)\n",
    "**Note:** Answer the following questions. Handmade datasets will be rejected with no excuse entertained.\n",
    "+ Describe the dataset you chose for this project.\n",
    "+ What is your data resource?\n",
    "+ Define the variables in your dataset\n",
    "+ Reference for your dataset."
   ]
  },
  {
   "cell_type": "markdown",
   "metadata": {},
   "source": [
    "### 3 Modeling Type and Technique: 25 Points (Word count ~150)\n",
    "**Note:** Answer the following questions.\n",
    "+ Explain precisely the modeling techniques that you chose for this project.\n",
    "+ What is your modeling methodology? \n",
    "+ Explain all the steps involved in the design and code.\n",
    "+ What visualization method is used to portray your results?\n",
    "+ Why do you think chosen visualization method is apt for your case?\n",
    "+ How do you measure the performance of your model?"
   ]
  },
  {
   "cell_type": "markdown",
   "metadata": {},
   "source": [
    "### 4 Progress: 25 Points (Word count ~150)\n",
    "**Note:** Answer the following questions.\n",
    "+ How far did you make progress in your project?\n",
    "+ Define the tasks accomplished by every team members in a table clearly. \n",
    "+ How can you justify your solution to the mentioned problem statement?\n",
    "+ Why do you think your model is better than the other similar models that are in the market today?"
   ]
  },
  {
   "cell_type": "markdown",
   "metadata": {},
   "source": [
    "### 5 References (5 Points): \n",
    "**Note:** State your references from conference proceedings and/or Journals. \n",
    "+ Minimum of 3 references.\n",
    "+ Shall be in APA/MLA format.\n",
    "+ Website links can only be used as an additional reference."
   ]
  },
  {
   "cell_type": "markdown",
   "metadata": {},
   "source": [
    "_(C) 2022 Complex Adaptive Systems Laboratory all rights reserved._"
   ]
  }
 ],
 "metadata": {
  "kernelspec": {
   "display_name": "Python 3 (ipykernel)",
   "language": "python",
   "name": "python3"
  },
  "language_info": {
   "codemirror_mode": {
    "name": "ipython",
    "version": 3
   },
   "file_extension": ".py",
   "mimetype": "text/x-python",
   "name": "python",
   "nbconvert_exporter": "python",
   "pygments_lexer": "ipython3",
   "version": "3.9.12"
  }
 },
 "nbformat": 4,
 "nbformat_minor": 2
}
