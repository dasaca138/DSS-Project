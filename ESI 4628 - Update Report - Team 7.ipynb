{
 "cells": [
  {
   "cell_type": "markdown",
   "metadata": {},
   "source": [
    "# Term Project - Update\n",
    "\n",
    "ESI4628: Decision Support Systems for Industrial Engineers<br>\n",
    "University of Central Florida\n",
    "\n",
    "Fall 2023"
   ]
  },
  {
   "cell_type": "markdown",
   "metadata": {},
   "source": [
    "#### According to UCF Golden rules of academic ethics and honesty, plagiarism is not acceptable under any circumstances. "
   ]
  },
  {
   "cell_type": "markdown",
   "metadata": {},
   "source": [
    "### Project Title: Predicting the Regular Season Records of NBA Teams using Machine Learning \n",
    "### Team Number 7 \n",
    "### Team Members: Dinorah Galvez Monasterio, Wesli Wehmeier, Paolo Raymundo, Dalia Sanchez-Castellanos"
   ]
  },
  {
   "cell_type": "markdown",
   "metadata": {},
   "source": [
    "### 1 Problem Statement:\n",
    "The goal for our machine learning model is to help us predict the regular season winning percentages for NBA teams. This model could be useful for incomning players deciding where they would like to play, or fans deciding what teams to support. There is a need for this due to the lasting prominence of the sport at a global scale, and the growth it has sseen in fantasy sports and betting environments."
   ]
  },
  {
   "cell_type": "markdown",
   "metadata": {},
   "source": [
    "### 2 Dataset:\n",
    "\n",
    "The dataset chosen for this project consisted of almost every type of team statistic available over the course of the entire history of the NBA. This is over 80 various statistics, ranging from field gold percentages, team records, various award winners on each team, etc. Each of these statistics, if available, was recorded for every single team that participated in every single season that was executed in NBA history, which ultimately formed over 140,000 data points to work with. This dataset was created by referencing basketball-reference.com, utilizing its various webpages and data tables throughout its website to ultimately combine and form this complete dataset into a usable csv file.\n",
    "\n",
    "The independent variables chosen for our project from the diverse dataset are are broken down into the primary FOUR FACTORS that are the \"most important\" statistics that contribute to a team's winning ability. Each of these four factors have an Offensive and Defensive aspect to them, so there are essentially 8 primary factors to consider. \n",
    "\n",
    "   + Shooting - Effective Field Goal Percentage (eFG%)\n",
    "        + (FG + 0.5x3P) / FGA\n",
    "        + In our dataset, it is referred to as:\n",
    "            + __Offense Four Factors|eFG%__\n",
    "            + __Defense Four Factors|eFG%__\n",
    "   + Turnovers - Turnover % (TOV%)\n",
    "\t\t+ TOV / (FGA + 0.44xFTA + TOV)\n",
    "        + In our dataset, it is referred to as:\n",
    "            + __Offense Four Factors|TOV%__\t\n",
    "            + __Defense Four Factors|TOV%__\n",
    "   + Rebounding - Offensive & Defensive Rebound % (ORB% & DRB%)\n",
    "\t\t+ In our dataset, it is referred to as:\n",
    "            + __Offense Four Factors|ORB%__: ORB / (ORB + Opp DRB)\n",
    "            + __Defense Four Factors|DRB%__: DRB / (Opp ORB + DRB)\n",
    "   + Free Throws\n",
    "\t\t+ FT / FGA\n",
    "        + In our dataset, it is referred to as:\n",
    "            + __Offense Four Factors|FT/FGA__\n",
    "            + __Defense Four Factors|FT/FGA__\n",
    "   \n",
    "   + __Pace__ \n",
    "        + Speed of the game\n",
    "\t\t+ Can inflate/deflate statistics\n",
    "            \n",
    "The ninth and final independent variable that was included in this project is the Pace at which each team plays, essentially covering the speed at which teams play at. This was included due to the impact pace can have on inflating and deflating a team's statistics in a positive or negative manner, despite their winning percentage.\n",
    "\n",
    "Finally, the dependent variable we will be testing these independent variables against is the Overall Winning % of the team during that season. The dependent variable, while already provided in the dataset, is equal to:\n",
    "\n",
    "   + __Overall__: # of Wins / (Sum of Games Played) \n",
    "   \n",
    "The original source of our dataset is from [basketball-reference.com](https://www.basketball-reference.com/). The CSV file that are dataset comes from an existing project online that required similar data and was generated using various data extraction techniques and databases outside of the course. This CSV file can be accessed [here](https://github.com/JK-Future-GitHub/NBA_Champion/blob/main/champ_data.csv)."
   ]
  },
  {
   "cell_type": "markdown",
   "metadata": {},
   "source": [
    "### 3 Modeling Type and Technique:\n",
    "\n",
    "We initially wanted to use a Regression Decision Tree ML model for our project. However, through our process of curating our dataset from basketball-refence.com, and researching our methodology, we chose to use a linear regression machine learning model instead. This is due to the the type of independent and dependent variables we decidied to utilize and the type of data that we would be dealing with. Because our dependent variable, __Overall Winning %__, is a continuous variable, a Linear Regression ML model was determined to be best option moving forward, and will be the most apt approach to our project problem statement and providing a feasible predictive result at the end.\n",
    "\n",
    "Our initial steps will involve importing and processing our data through a CSV file. We will extract our dependent and independent variables, cleaning up our data, and create a number of various visualizations to help understand and create relationships with our data. This will include scatter plot matrices between, which are good visualizations to help identify bivariate relationships, identify any possible trends, and assess various other indicators. A heatmap will also be created to identify correlations between variables. Linear relationships between each independent variable and the dependent variable will be investigated as well using correlation coefficients to see which variables are most correlated to the Overall Win % of a team. Simple linear regressions were also created for each independent variable against the dependent variable for better visualization of data. Finally, variance inflation factor (VIF) was performed to detect multicollinearity.\n",
    "\n",
    "These data processing methods will help train our ML model as we prepare to build a Linear Regression based model to create our predictions. Scatter plots using the plt.scatter method can be used to make predictions based on our x-array parameters (independent variables), producing y-values (Winning %). This will then allow us to use the visualization method of a histogram where the residuals between the predicted and actual data will be investigated for normality, confirming or rejecting the use of a linear regression ML model. \n",
    "\n"
   ]
  },
  {
   "cell_type": "markdown",
   "metadata": {},
   "source": [
    "### 4 Progress:\n",
    "\n",
    "We have been able to identify the type of machine learning that we wanted to use after a series of observations to our first option. Using the linear regression machine learning model for the data set of analysing the different information to determine which basketball team is more likely to win any of the championships or games that we provide background data for. \n",
    "\n",
    "For the data, we have been able to clean up any of the rows with missing data that encounter our logs and discontinued the correct functionality of the code itself to be able to generate the analysis and data progression with complete success. We have been able to utilize a number of statistical and visualization techniques, as explained earlier in __3. Modeling Type and Technique__, to help prepare our data accordingly and start understanding the correlation and relationships between our variables. This preparation and processing of data will allow us to adequately train our ML model moving forward, once we have been able to learn how exactly to build the model to the expected requirements.\n",
    "\n",
    "We plan to use a linear regression model to predict the overall winning % of teams. This method uses a type of supervised machine learning algorithm that computes the linear relationship between our dependent variable with the independent variables we have already defined. The independent variables we will ultimately test our ML model on will be based on the optimal variables suggested by the sklearn packages utilized. These packages will provide which and how many of our independent variables should be trained on.\n",
    "\n",
    "We believe that the solution to our provided problem statement can be acquired using our ML modeling method because of the the significance of each of our variables on the success of teams in the NBA. The Four Factors, or rather eight since each factor is a pair in itself, are often utilized in modern day NBA analytics to better understand and predict the success of teams. Each of these factors are made up of some of the essential and most commonly interacted statistics throughout the game that ultimately decide the winner. \n",
    "\n",
    "By some degree, we believe that the factors we have chosen are among the most correlated to the Overall Winning % of teams, and believe that by using ML, we can prove that correlation with our predicted results. Other factors, statistics, and awards have been utilized in other models or projects done before. However, the dominance of the Four Factors in the game of basketball is what separates this model from any other that exists today."
   ]
  },
  {
   "cell_type": "markdown",
   "metadata": {},
   "source": [
    "| Team Member | Tasks Accomplished |\n",
    "|-------------|--------------------|\n",
    "| Dinorah Galvez       | - Data Collection|\n",
    "|                      | - Data Extraction|\n",
    "|                      | - Data Preparation for Processing|\n",
    "|                      | - Reference Research|\n",
    "|                      | - Progress & Reference Sections of Midterm Update|\n",
    "| Paolo Raymundo       | - Defining Project - Problem & Objectives|\n",
    "|                      | - Defining Independent/Dependent Variables|\n",
    "|                      | - Data Processing for ML Model Training|\n",
    "|                      | - Utilize and create various visualizations to represent variable relationships and correlation|\n",
    "|                      | - Dataset Section of Midterm Update|\n",
    "|                      | - Project Manager - define schedule, tasks, and needs|\n",
    "| Dalia Sanchez        | - Setup Github for Shared Space for Code|\n",
    "|                      | - Various Report Building Needs|\n",
    "|                      | - Researched into ideal modeling types & techniques|\n",
    "|                      | - Researched into best factors to utilize for project|\n",
    "|                      | - Problem Statement & Asssisted with Modelign Type & Technique section of Midterm Update|\n",
    "| Wesli Wehmeier       | - Researched into ideal modeling types & techniques|\n",
    "|                      | - Assisted in building data visualization methods|\n",
    "|                      | - Advised in data processing needs based on ML modeling type chosen|\n",
    "|                      | - Modeling Type and Technique section of Midterm Update|\n"
   ]
  },
  {
   "cell_type": "markdown",
   "metadata": {},
   "source": [
    "### 5 References: \n",
    "\n",
    "+ Hart, Micah.March 2013.The 4 Factors: The numbers behind the game.\n",
    "\n",
    "+ Jacobs, Justin.2017. Introduction to Oliver's Four Factors.\n",
    "\n",
    "+ Serkan Bali, Engin Ozdermir. 2021. A novel method for predition of EuroLeaguegame results using hybrid feature extraction and machine learning techniques.\n",
    "\n",
    "+ Zafar MAhmood, Ali Daub, Rabeeh Ayaz Abbasi. Jeanuary 2021. Using Machine Lerning techniques for rising star prediction in basketball.\n",
    "\n",
    "+ Zhuo Shi, Minguri Li, Meng Wang, Jing Shen, Wei Chen, Xiaonan Luo.2022. Avisualization System Involving NBA Visual Analysis and Integrated Learning Model Prediction."
   ]
  },
  {
   "cell_type": "markdown",
   "metadata": {},
   "source": [
    "_(C) 2022 Complex Adaptive Systems Laboratory all rights reserved._"
   ]
  }
 ],
 "metadata": {
  "kernelspec": {
   "display_name": "Python 3 (ipykernel)",
   "language": "python",
   "name": "python3"
  },
  "language_info": {
   "codemirror_mode": {
    "name": "ipython",
    "version": 3
   },
   "file_extension": ".py",
   "mimetype": "text/x-python",
   "name": "python",
   "nbconvert_exporter": "python",
   "pygments_lexer": "ipython3",
   "version": "3.11.4"
  }
 },
 "nbformat": 4,
 "nbformat_minor": 2
}
